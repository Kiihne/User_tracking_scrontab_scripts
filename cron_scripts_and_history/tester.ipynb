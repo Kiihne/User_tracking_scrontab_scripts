{
 "cells": [
  {
   "cell_type": "code",
   "execution_count": 2,
   "metadata": {},
   "outputs": [
    {
     "name": "stdout",
     "output_type": "stream",
     "text": [
      "importing epmt_query\n",
      "importing pandas\n"
     ]
    }
   ],
   "source": [
    "# import  epmt query \n",
    "print('importing epmt_query')\n",
    "import epmt_query as eq\n",
    "# import matplot for better plotting functions\n",
    "import sys\n",
    "\n",
    "import numpy as np\n",
    "import datetime\n",
    "import time\n",
    "# import pandas. optional but helpful 'display.max_columns' arg shows all DataFrame columns when printing\n",
    "print('importing pandas')\n",
    "import pandas as pd\n",
    "import pickle   #to load in metrics history\n",
    "pd.set_option('display.max_columns', None)\n",
    "\n"
   ]
  },
  {
   "cell_type": "code",
   "execution_count": 3,
   "metadata": {},
   "outputs": [],
   "source": [
    "all_jobs = eq.get_jobs(limit = 3000,before = -10)"
   ]
  },
  {
   "cell_type": "code",
   "execution_count": 8,
   "metadata": {},
   "outputs": [
    {
     "data": {
      "text/plain": [
       "{'AM4.1_2014_hich4',\n",
       " 'AM4.1_2014_hich4hih2',\n",
       " 'AM4.1_2014_loh2',\n",
       " 'CM4_piControl_c192_OM4p125_v8',\n",
       " 'ESM4_historical_min10_droplets',\n",
       " 'ESM4p2_piControl_spinup_J2',\n",
       " 'KMG_revCSLparam_full',\n",
       " 'KMG_revCSLparam_full_kb0',\n",
       " 'KMG_revCSLparam_full_kb0_ddep',\n",
       " 'KMG_revCSLparam_turb_only',\n",
       " 'KMG_revCSLparam_turb_rough',\n",
       " 'NWA12_physics_2024_prod_SPEAR_b14_r32_1',\n",
       " 'OM5b03_BS0.025_JRA1.5_cycle1',\n",
       " 'OM5b03_BS0.05_JRA1.5_cycle1',\n",
       " 'OM5b03_BS0.075_JRA1.5_cycle1',\n",
       " 'OM5b03_BS0.125_JRA1.5_cycle1',\n",
       " 'OM5b03_BS0.175_JRA1.5_cycle1',\n",
       " 'OM5b03_BS0.1_JRA1.5_cycle1',\n",
       " 'OM5b03_BSGM_JRA1.5_cycle1',\n",
       " 'OM5b03_BS_JRA1.5_cycle1',\n",
       " 'OM5b03_GM0.1_JRA1.5_cycle1',\n",
       " 'OM5b03_GM0.2_JRA1.5_cycle1',\n",
       " 'OM5b03_GM0.3_JRA1.5_cycle1',\n",
       " 'OM5b03_GM0.4_JRA1.5_cycle1',\n",
       " 'OM5b03_GM0.5_JRA1.5_cycle1',\n",
       " 'OM5b03_GM0.6_JRA1.5_cycle1',\n",
       " 'OM5b03_GM0.8_JRA1.5_cycle1',\n",
       " 'OM5b03_GM_JRA1.5_cycle1',\n",
       " 'OM5b03_JRA1.5_cycle1',\n",
       " 'SPEAR_COBALT_c96_o1_Control_1850_Q50_spinup_c5',\n",
       " 'SPEAR_c384_OM4p25_Control_1990_R53',\n",
       " 'SPEAR_c384_OM4p25_Control_1990_R61',\n",
       " 'SPEAR_c384_OM4p25_Hist_SSP245_IC1991_R61_ens_01',\n",
       " 'SPEAR_c384_OM4p25_Hist_SSP245_IC1991_R61_ens_02',\n",
       " 'SPEAR_c384_OM4p25_Hist_SSP245_IC1991_R61_ens_03',\n",
       " 'SPEAR_c384_OM4p25_Hist_SSP245_IC1991_R61_ens_04',\n",
       " 'SPEAR_c384_OM4p25_Hist_SSP245_IC1991_R61_ens_05',\n",
       " 'SPEAR_c384_OM4p25_Hist_SSP245_IC1991_R61_ens_06',\n",
       " 'SPEAR_c384_OM4p25_Hist_SSP245_IC1991_R61_ens_07',\n",
       " 'SPEAR_c384_OM4p25_Hist_SSP245_IC1991_R61_ens_08',\n",
       " 'SPEAR_c384_OM4p25_Hist_SSP245_IC1991_R61_ens_09',\n",
       " 'SPEAR_c96_o1_OTA_climate_A19',\n",
       " 'SPEAR_c96_o1_OTA_climate_A20',\n",
       " 'SPEAR_c96_o1_OTA_climate_A21',\n",
       " 'SPEAR_c96_o1_OTA_climate_A22',\n",
       " 'SPEAR_c96_o1_Scen_SSP370_126AFRAER_IC2011_K50_ens_06_10',\n",
       " 'SPEAR_c96_o1_Scen_SSP370_126EASAER_IC2011_K50_ens_06_10',\n",
       " 'base_d10_zm5',\n",
       " 'c384L65_am5f7b11r0_pdclim2010F_hwrf17_5iter_monin_newcode',\n",
       " 'c96L33_am4p0_2010climo_clubbv2_pm_ncar3_L3_pm_only',\n",
       " 'iOM4grd_topoOM5_BMv3',\n",
       " 'lm4p0-HB-C384-multi-tile_ERA5_1700_1799',\n",
       " 'lm4p2sc-am4p0pi-coldstart-default-hb-ptiles-20231107-part2-GSWP3-soil-moisture-ptile-ksat',\n",
       " 'om5_b00_corrected_init',\n",
       " 'om5_b00_ryf_corrected_init',\n",
       " 'om5_b05_undo-RFZ-VFZ-topoedits'}"
      ]
     },
     "execution_count": 8,
     "metadata": {},
     "output_type": "execute_result"
    }
   ],
   "source": [
    "names = []\n",
    "for job in all_jobs:\n",
    "    if job['tags'].get('exp_name'):\n",
    "        names.append(job['tags']['exp_name'])\n",
    "set(names)"
   ]
  },
  {
   "cell_type": "code",
   "execution_count": 7,
   "metadata": {},
   "outputs": [
    {
     "data": {
      "text/plain": [
       "{}"
      ]
     },
     "execution_count": 7,
     "metadata": {},
     "output_type": "execute_result"
    }
   ],
   "source": [
    "job['tags']"
   ]
  },
  {
   "cell_type": "code",
   "execution_count": null,
   "metadata": {},
   "outputs": [],
   "source": []
  }
 ],
 "metadata": {
  "kernelspec": {
   "display_name": "Python 3",
   "language": "python",
   "name": "python3"
  },
  "language_info": {
   "codemirror_mode": {
    "name": "ipython",
    "version": 3
   },
   "file_extension": ".py",
   "mimetype": "text/x-python",
   "name": "python",
   "nbconvert_exporter": "python",
   "pygments_lexer": "ipython3",
   "version": "3.7.4"
  }
 },
 "nbformat": 4,
 "nbformat_minor": 2
}
