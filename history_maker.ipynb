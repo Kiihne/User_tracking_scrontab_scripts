{
 "cells": [
  {
   "cell_type": "markdown",
   "metadata": {},
   "source": [
    "# history file maker\n",
    "only change the cell that contains the variable name. be careful as thiswill erase any prevous data recorded and create a blank history file."
   ]
  },
  {
   "cell_type": "code",
   "execution_count": 1,
   "metadata": {},
   "outputs": [
    {
     "name": "stdout",
     "output_type": "stream",
     "text": [
      "importing epmt_query\n",
      "importing pandas\n"
     ]
    }
   ],
   "source": [
    "# import  epmt query \n",
    "print('importing epmt_query')\n",
    "import epmt_query as eq\n",
    "# import matplot for better plotting functions\n",
    "import sys\n",
    "sys.path.insert(0,'/home/Avery.Kiihne/pip_experiment')\n",
    "import matplotlib.pyplot as plt\n",
    "import numpy as np\n",
    "import datetime\n",
    "import time\n",
    "# import pandas. optional but helpful 'display.max_columns' arg shows all DataFrame columns when printing\n",
    "print('importing pandas')\n",
    "import pandas as pd\n",
    "import pickle   #to load in metrics history\n",
    "pd.set_option('display.max_columns', None)"
   ]
  },
  {
   "cell_type": "code",
   "execution_count": 4,
   "metadata": {},
   "outputs": [],
   "source": [
    "variable_name = 'om5'"
   ]
  },
  {
   "cell_type": "code",
   "execution_count": 5,
   "metadata": {},
   "outputs": [
    {
     "name": "stdout",
     "output_type": "stream",
     "text": [
      "dictionary saved successfully to file\n",
      "{'time_waiting': [], 'time_waiting_error': [], 'read_bytes': [], 'read_bytes_error': [], 'rssmax': [], 'rssmax_error': [], 'num_procs': [], 'num_procs_error': [], 'duration': [], 'duration_error': [], 'write_bytes': [], 'write_bytes_error': [], 'cpu_time': [], 'cpu_time_error': [], 'flux': [], 'flux_error': [], 'num_jobs': [], 'date': []}\n"
     ]
    }
   ],
   "source": [
    "#Be careful, as this creates a blank file for the dictionary of metrics. If used foolishly, can delete long term data. Only use if creating new folder or want to reset all data\n",
    "#creat dictionarymetrics_dict['canopy']\n",
    "filename = 'cron_scripts_and_history/'+variable_name+'_history_'+'DO_NOT_DELETE.pkl'\n",
    "metrics_list = {'rssmax','write_bytes','duration','cpu_time','read_bytes', 'num_procs', 'time_waiting'}\n",
    "metrics_dict = {}\n",
    "for metric in metrics_list:\n",
    "    metrics_dict[metric] = []\n",
    "    metrics_dict[metric+'_error'] = []\n",
    "metrics_dict['flux'] = []\n",
    "metrics_dict['flux_error'] = []\n",
    "metrics_dict['num_jobs'] = []\n",
    "metrics_dict['date'] = []\n",
    "\n",
    "# save dictionary to weekly_metric_storage_DO_NOT_DELETE.pkl file\n",
    "with open(filename, 'wb') as fp:\n",
    "    pickle.dump(metrics_dict, fp)\n",
    "    print('dictionary saved successfully to file')\n",
    "    print(metrics_dict)"
   ]
  },
  {
   "cell_type": "code",
   "execution_count": null,
   "metadata": {},
   "outputs": [],
   "source": []
  }
 ],
 "metadata": {
  "kernelspec": {
   "display_name": "Python 3",
   "language": "python",
   "name": "python3"
  },
  "language_info": {
   "codemirror_mode": {
    "name": "ipython",
    "version": 3
   },
   "file_extension": ".py",
   "mimetype": "text/x-python",
   "name": "python",
   "nbconvert_exporter": "python",
   "pygments_lexer": "ipython3",
   "version": "3.7.4"
  }
 },
 "nbformat": 4,
 "nbformat_minor": 2
}
