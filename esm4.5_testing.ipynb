{
 "cells": [
  {
   "cell_type": "markdown",
   "metadata": {},
   "source": [
    "# esm4.5 testing\n",
    "In order to track esm4.5 progress over time, we will setup methods to collect data day by day, and then produce time dependent plots to show progress\n",
    "\n",
    "Recorded data will be average per job format, with error. Sort by date."
   ]
  },
  {
   "cell_type": "code",
   "execution_count": 1,
   "metadata": {},
   "outputs": [
    {
     "name": "stdout",
     "output_type": "stream",
     "text": [
      "importing epmt_query\n",
      "importing pandas\n"
     ]
    }
   ],
   "source": [
    "# import  epmt query \n",
    "print('importing epmt_query')\n",
    "import epmt_query as eq\n",
    "# import matplot for better plotting functions\n",
    "import sys\n",
    "sys.path.insert(0,'/home/Avery.Kiihne/pip_experiment')\n",
    "import matplotlib.pyplot as plt\n",
    "import numpy as np\n",
    "import datetime\n",
    "import time\n",
    "# import pandas. optional but helpful 'display.max_columns' arg shows all DataFrame columns when printing\n",
    "print('importing pandas')\n",
    "import pandas as pd\n",
    "import pickle   #to load in metrics history\n",
    "pd.set_option('display.max_columns', None)"
   ]
  },
  {
   "cell_type": "code",
   "execution_count": 14,
   "metadata": {},
   "outputs": [
    {
     "name": "stdout",
     "output_type": "stream",
     "text": [
      "job_num/total_jobs=1000/135007\n",
      "job_num/total_jobs=2000/135007\n",
      "job_num/total_jobs=3000/135007\n",
      "job_num/total_jobs=4000/135007\n",
      "job_num/total_jobs=5000/135007\n",
      "job_num/total_jobs=6000/135007\n",
      "job_num/total_jobs=7000/135007\n",
      "job_num/total_jobs=8000/135007\n",
      "job_num/total_jobs=9000/135007\n",
      "job_num/total_jobs=10000/135007\n",
      "job_num/total_jobs=11000/135007\n",
      "job_num/total_jobs=12000/135007\n",
      "job_num/total_jobs=13000/135007\n",
      "job_num/total_jobs=14000/135007\n",
      "job_num/total_jobs=15000/135007\n",
      "job_num/total_jobs=16000/135007\n",
      "job_num/total_jobs=17000/135007\n",
      "job_num/total_jobs=18000/135007\n",
      "job_num/total_jobs=19000/135007\n",
      "job_num/total_jobs=20000/135007\n",
      "job_num/total_jobs=21000/135007\n",
      "job_num/total_jobs=22000/135007\n",
      "job_num/total_jobs=23000/135007\n",
      "job_num/total_jobs=24000/135007\n",
      "job_num/total_jobs=25000/135007\n",
      "job_num/total_jobs=26000/135007\n",
      "job_num/total_jobs=27000/135007\n",
      "job_num/total_jobs=28000/135007\n",
      "job_num/total_jobs=29000/135007\n",
      "job_num/total_jobs=30000/135007\n",
      "job_num/total_jobs=31000/135007\n",
      "job_num/total_jobs=32000/135007\n",
      "job_num/total_jobs=33000/135007\n",
      "job_num/total_jobs=34000/135007\n",
      "job_num/total_jobs=35000/135007\n",
      "job_num/total_jobs=36000/135007\n",
      "job_num/total_jobs=37000/135007\n",
      "job_num/total_jobs=38000/135007\n",
      "job_num/total_jobs=39000/135007\n",
      "job_num/total_jobs=40000/135007\n",
      "job_num/total_jobs=41000/135007\n",
      "job_num/total_jobs=42000/135007\n",
      "job_num/total_jobs=43000/135007\n",
      "job_num/total_jobs=44000/135007\n",
      "job_num/total_jobs=45000/135007\n",
      "job_num/total_jobs=46000/135007\n",
      "job_num/total_jobs=47000/135007\n",
      "job_num/total_jobs=48000/135007\n",
      "job_num/total_jobs=49000/135007\n",
      "job_num/total_jobs=50000/135007\n",
      "job_num/total_jobs=51000/135007\n",
      "job_num/total_jobs=52000/135007\n",
      "job_num/total_jobs=53000/135007\n",
      "job_num/total_jobs=54000/135007\n",
      "job_num/total_jobs=55000/135007\n",
      "job_num/total_jobs=56000/135007\n",
      "job_num/total_jobs=57000/135007\n",
      "job_num/total_jobs=58000/135007\n",
      "job_num/total_jobs=59000/135007\n",
      "job_num/total_jobs=60000/135007\n",
      "job_num/total_jobs=61000/135007\n",
      "job_num/total_jobs=62000/135007\n",
      "job_num/total_jobs=63000/135007\n",
      "job_num/total_jobs=64000/135007\n",
      "job_num/total_jobs=65000/135007\n",
      "job_num/total_jobs=66000/135007\n",
      "job_num/total_jobs=67000/135007\n",
      "job_num/total_jobs=68000/135007\n",
      "job_num/total_jobs=69000/135007\n",
      "job_num/total_jobs=70000/135007\n",
      "job_num/total_jobs=71000/135007\n",
      "job_num/total_jobs=72000/135007\n",
      "job_num/total_jobs=73000/135007\n",
      "job_num/total_jobs=74000/135007\n",
      "job_num/total_jobs=75000/135007\n",
      "job_num/total_jobs=76000/135007\n",
      "job_num/total_jobs=77000/135007\n",
      "job_num/total_jobs=78000/135007\n",
      "job_num/total_jobs=79000/135007\n",
      "job_num/total_jobs=80000/135007\n",
      "job_num/total_jobs=81000/135007\n",
      "job_num/total_jobs=82000/135007\n",
      "job_num/total_jobs=83000/135007\n",
      "job_num/total_jobs=84000/135007\n",
      "job_num/total_jobs=85000/135007\n",
      "job_num/total_jobs=86000/135007\n",
      "job_num/total_jobs=87000/135007\n",
      "job_num/total_jobs=88000/135007\n",
      "job_num/total_jobs=89000/135007\n",
      "job_num/total_jobs=90000/135007\n",
      "job_num/total_jobs=91000/135007\n",
      "job_num/total_jobs=92000/135007\n",
      "job_num/total_jobs=93000/135007\n",
      "job_num/total_jobs=94000/135007\n",
      "job_num/total_jobs=95000/135007\n",
      "job_num/total_jobs=96000/135007\n",
      "job_num/total_jobs=97000/135007\n",
      "job_num/total_jobs=98000/135007\n",
      "job_num/total_jobs=99000/135007\n",
      "job_num/total_jobs=100000/135007\n",
      "job_num/total_jobs=101000/135007\n",
      "job_num/total_jobs=102000/135007\n",
      "job_num/total_jobs=103000/135007\n",
      "job_num/total_jobs=104000/135007\n",
      "job_num/total_jobs=105000/135007\n",
      "job_num/total_jobs=106000/135007\n",
      "job_num/total_jobs=107000/135007\n",
      "job_num/total_jobs=108000/135007\n",
      "job_num/total_jobs=109000/135007\n",
      "job_num/total_jobs=110000/135007\n",
      "job_num/total_jobs=111000/135007\n",
      "job_num/total_jobs=112000/135007\n",
      "job_num/total_jobs=113000/135007\n",
      "job_num/total_jobs=114000/135007\n",
      "job_num/total_jobs=115000/135007\n",
      "job_num/total_jobs=116000/135007\n",
      "job_num/total_jobs=117000/135007\n",
      "job_num/total_jobs=118000/135007\n",
      "job_num/total_jobs=119000/135007\n",
      "job_num/total_jobs=120000/135007\n",
      "job_num/total_jobs=121000/135007\n",
      "job_num/total_jobs=122000/135007\n",
      "job_num/total_jobs=123000/135007\n",
      "job_num/total_jobs=124000/135007\n",
      "job_num/total_jobs=125000/135007\n",
      "job_num/total_jobs=126000/135007\n",
      "job_num/total_jobs=127000/135007\n",
      "job_num/total_jobs=128000/135007\n",
      "job_num/total_jobs=129000/135007\n",
      "job_num/total_jobs=130000/135007\n",
      "job_num/total_jobs=131000/135007\n",
      "job_num/total_jobs=132000/135007\n",
      "job_num/total_jobs=133000/135007\n",
      "job_num/total_jobs=134000/135007\n",
      "job_num/total_jobs=135000/135007\n",
      "number of ESM4.5 jobs:  0\n"
     ]
    }
   ],
   "source": [
    "#We gather initial estimates and get a list of IDs for the specific date\n",
    "start_date = datetime.datetime(2024, 5, 24, 23, 59)    #day that ends the week\n",
    "older_date = start_date + datetime.timedelta(days =-1) \n",
    "date = (start_date.strftime(\"%m\")+'-'+start_date.strftime(\"%d\")+'-'+start_date.strftime(\"%y\")) #date in an easy to read format\n",
    "#use orm and trigger_post_process=False to get data quickly\n",
    "start = time.time()\n",
    "older_orm = eq.get_jobs(after=older_date, fmt = 'orm',trigger_post_process=False)\n",
    "start_orm = eq.get_jobs(after=start_date, fmt = 'orm',trigger_post_process=False)\n",
    "job_num = older_orm.count() - start_orm.count()    #clip off the jobs that happened between current time and the end of the week being reported on\n",
    "all_jobs=eq.get_jobs(limit =int(job_num), offset = start_orm.count(), fmt='orm',trigger_post_process=False)\n",
    "#sort data by esm4.5 tag in exp_name\n",
    "ESM_exp_jobids=[]\n",
    "ESM_exp_names=[]\n",
    "total_jobs=all_jobs.count()\n",
    "job_num=0\n",
    "for job in all_jobs:\n",
    "    job_num=job_num+1\n",
    "    exp_name=job.tags.get('exp_name')\n",
    "    if job_num%1000 == 0:\n",
    "        print(f'job_num/total_jobs={job_num}/{total_jobs}')\n",
    "    if exp_name is None:\n",
    "        continue\n",
    "    if ('ESM4p5' in exp_name) or ('esm4p5' in exp_name.lower()):\n",
    "        ESM_exp_jobids.append(job.jobid)\n",
    "        if exp_name in ESM_exp_names:\n",
    "            continue\n",
    "        else:\n",
    "            ESM_exp_names.append(exp_name)\n",
    "print('number of ESM4.5 jobs: ', len(ESM_exp_jobids))"
   ]
  },
  {
   "cell_type": "code",
   "execution_count": 4,
   "metadata": {},
   "outputs": [],
   "source": [
    "#get jobs in dict format, if there is more than 10\n",
    "if len(ESM_exp_jobids) > 10:\n",
    "    #setup dictionaries\n",
    "    metrics_list = {'rssmax','write_bytes','duration','cpu_time','read_bytes', 'num_procs', 'time_waiting'}\n",
    "    metrics_dict = {}\n",
    "    for metric in metrics_list:\n",
    "        metrics_dict[metric] = []\n",
    "    metrics_dict['flux'] = []\n",
    "    esm4p5_jobs = eq.get_jobs(jobs = ESM_exp_jobids, fmt = 'dict', trigger_post_process=False)\n",
    "    for job in esm4p5_jobs:\n",
    "        if job.get('rssmax') == None:\n",
    "            job = eq.get_jobs(jobs = job['jobid'], fmt = 'dict')[0]\n",
    "        \n",
    "        for metric in metrics_list:\n",
    "            metrics_dict[metric].append(job[metric])\n",
    "        metrics_dict['flux'].append((job['read_bytes']+job['write_bytes'])/job['cpu_time'])"
   ]
  },
  {
   "cell_type": "markdown",
   "metadata": {},
   "source": [
    "# record keeping\n",
    "We transform data into averages and append that dictionary onto a file that can be called even once the DB is erased."
   ]
  },
  {
   "cell_type": "code",
   "execution_count": 42,
   "metadata": {},
   "outputs": [],
   "source": [
    "#process data by getting average, and add errors\n",
    "for metric in list(metrics_dict.keys()):\n",
    "    metrics_dict[metric+'_error'] = np.std(metrics_dict[metric])/(len(metrics_dict[metric]))**.5\n",
    "    metrics_dict[metric] = sum(metrics_dict[metric])/len(metrics_dict[metric])\n",
    "metrics_dict['date'] = date\n",
    "metrics_dict['num_jobs'] = len(ESM_exp_jobids)\n"
   ]
  },
  {
   "cell_type": "code",
   "execution_count": 43,
   "metadata": {},
   "outputs": [
    {
     "name": "stdout",
     "output_type": "stream",
     "text": [
      "dictionary saved successfully to file\n"
     ]
    }
   ],
   "source": [
    "#record metrics based on date (to avoid repitition)\n",
    "filename = 'esm4.5_history_'+'DO_NOT_DELETE.pkl'\n",
    "# Read dictionary pkl file\n",
    "with open(filename, 'rb') as fp:\n",
    "    metrics_history = pickle.load(fp)\n",
    "#record new dates\n",
    "if date not in metrics_history['date']:\n",
    "    for key in list(metrics_history.keys()):\n",
    "        metrics_history[key].append(metrics_dict[key])\n",
    "# save dictionary to weekly_metric_storage_DO_NOT_DELETE.pkl file\n",
    "with open(filename, 'wb') as fp:\n",
    "    pickle.dump(metrics_history, fp)\n",
    "    print('dictionary saved successfully to file')"
   ]
  },
  {
   "cell_type": "code",
   "execution_count": 3,
   "metadata": {},
   "outputs": [
    {
     "name": "stdout",
     "output_type": "stream",
     "text": [
      "dictionary saved successfully to file\n",
      "{'cpu_time': [], 'cpu_time_error': [], 'num_procs': [], 'num_procs_error': [], 'duration': [], 'duration_error': [], 'rssmax': [], 'rssmax_error': [], 'read_bytes': [], 'read_bytes_error': [], 'time_waiting': [], 'time_waiting_error': [], 'write_bytes': [], 'write_bytes_error': [], 'flux': [], 'flux_error': [], 'num_jobs': [], 'date': []}\n"
     ]
    }
   ],
   "source": [
    "#Be careful, as this creates a blank file for the dictionary of metrics. If used foolishly, can delete long term data. Only use if creating new folder or want to reset all data\n",
    "#creat dictionarymetrics_dict['canopy']\n",
    "filename = 'esm4.5_history_'+'DO_NOT_DELETE.pkl'\n",
    "metrics_list = {'rssmax','write_bytes','duration','cpu_time','read_bytes', 'num_procs', 'time_waiting'}\n",
    "metrics_dict = {}\n",
    "for metric in metrics_list:\n",
    "    metrics_dict[metric] = []\n",
    "    metrics_dict[metric+'_error'] = []\n",
    "metrics_dict['flux'] = []\n",
    "metrics_dict['flux_error'] = []\n",
    "metrics_dict['num_jobs'] = []\n",
    "metrics_dict['date'] = []\n",
    "\n",
    "# save dictionary to weekly_metric_storage_DO_NOT_DELETE.pkl file\n",
    "with open(filename, 'wb') as fp:\n",
    "    pickle.dump(metrics_dict, fp)\n",
    "    print('dictionary saved successfully to file')\n",
    "    print(metrics_dict)"
   ]
  },
  {
   "cell_type": "markdown",
   "metadata": {},
   "source": [
    "# Progress plots\n",
    "Plots to display porgress over time of varous statistics"
   ]
  },
  {
   "cell_type": "code",
   "execution_count": 45,
   "metadata": {},
   "outputs": [
    {
     "data": {
      "text/plain": [
       "Text(0.5, 1.0, '# of ESM4.2 Jobs Per Day')"
      ]
     },
     "execution_count": 45,
     "metadata": {},
     "output_type": "execute_result"
    },
    {
     "data": {
      "image/png": "[encoded data removed]",
      "text/plain": [
       "<Figure size 640x480 with 1 Axes>"
      ]
     },
     "metadata": {},
     "output_type": "display_data"
    }
   ],
   "source": [
    "#first create the plot of number of esm4.5 jobs\n",
    "plt.style.use('default')\n",
    "date_time =metrics_history['date']\n",
    "date_time = pd.to_datetime(date_time)\n",
    "df = pd.DataFrame()\n",
    "df['value'] = metrics_history['num_jobs']\n",
    "df = df.set_index(date_time)\n",
    "df = df.sort_index(ascending=True)\n",
    "plt.plot(df.index,df['value'])\n",
    "plt.scatter(df.index,df['value'])\n",
    "plt.xticks(rotation=90)\n",
    "plt.title('# of ESM4.5 Jobs Per Day')"
   ]
  },
  {
   "cell_type": "code",
   "execution_count": 2,
   "metadata": {},
   "outputs": [
    {
     "ename": "NameError",
     "evalue": "name 'metrics_history' is not defined",
     "output_type": "error",
     "traceback": [
      "\u001b[0;31m---------------------------------------------------------------------------\u001b[0m",
      "\u001b[0;31mNameError\u001b[0m                                 Traceback (most recent call last)",
      "\u001b[0;32m<ipython-input-2-83faca2ca98d>\u001b[0m in \u001b[0;36m<module>\u001b[0;34m\u001b[0m\n\u001b[1;32m      7\u001b[0m \u001b[0mmetrics_list\u001b[0m \u001b[0;34m=\u001b[0m \u001b[0;34m[\u001b[0m\u001b[0;34m'cpu_time'\u001b[0m\u001b[0;34m,\u001b[0m \u001b[0;34m'duration'\u001b[0m\u001b[0;34m,\u001b[0m\u001b[0;34m'time_waiting'\u001b[0m\u001b[0;34m,\u001b[0m\u001b[0;34m'write_bytes'\u001b[0m\u001b[0;34m,\u001b[0m\u001b[0;34m'flux'\u001b[0m\u001b[0;34m,\u001b[0m\u001b[0;34m'rssmax'\u001b[0m\u001b[0;34m]\u001b[0m\u001b[0;34m\u001b[0m\u001b[0;34m\u001b[0m\u001b[0m\n\u001b[1;32m      8\u001b[0m \u001b[0;32mfor\u001b[0m \u001b[0maa\u001b[0m \u001b[0;32min\u001b[0m \u001b[0mrange\u001b[0m\u001b[0;34m(\u001b[0m\u001b[0;36m6\u001b[0m\u001b[0;34m)\u001b[0m\u001b[0;34m:\u001b[0m\u001b[0;34m\u001b[0m\u001b[0;34m\u001b[0m\u001b[0m\n\u001b[0;32m----> 9\u001b[0;31m     \u001b[0mdate_time\u001b[0m \u001b[0;34m=\u001b[0m\u001b[0mmetrics_history\u001b[0m\u001b[0;34m[\u001b[0m\u001b[0;34m'date'\u001b[0m\u001b[0;34m]\u001b[0m\u001b[0;34m\u001b[0m\u001b[0;34m\u001b[0m\u001b[0m\n\u001b[0m\u001b[1;32m     10\u001b[0m     \u001b[0mdate_time\u001b[0m \u001b[0;34m=\u001b[0m \u001b[0mpd\u001b[0m\u001b[0;34m.\u001b[0m\u001b[0mto_datetime\u001b[0m\u001b[0;34m(\u001b[0m\u001b[0mdate_time\u001b[0m\u001b[0;34m)\u001b[0m\u001b[0;34m\u001b[0m\u001b[0;34m\u001b[0m\u001b[0m\n\u001b[1;32m     11\u001b[0m     \u001b[0mdf\u001b[0m \u001b[0;34m=\u001b[0m \u001b[0mpd\u001b[0m\u001b[0;34m.\u001b[0m\u001b[0mDataFrame\u001b[0m\u001b[0;34m(\u001b[0m\u001b[0;34m)\u001b[0m\u001b[0;34m\u001b[0m\u001b[0;34m\u001b[0m\u001b[0m\n",
      "\u001b[0;31mNameError\u001b[0m: name 'metrics_history' is not defined"
     ]
    },
    {
     "data": {
      "image/png": "[encoded data removed]",
      "text/plain": [
       "<Figure size 1152x720 with 6 Axes>"
      ]
     },
     "metadata": {
      "needs_background": "light"
     },
     "output_type": "display_data"
    }
   ],
   "source": [
    "#create a multipanel plot with a shared x-axis of dates\n",
    "#setup\n",
    "fig, ax = plt.subplots(nrows=3,ncols=2,figsize=(16,10), sharex = True)\n",
    "ax =ax.ravel() \n",
    "plt.style.use('default')\n",
    "#now cycle through chose variables for plotting information\n",
    "metrics_list = ['cpu_time', 'duration','time_waiting','write_bytes','flux','rssmax']\n",
    "for aa in range(6):\n",
    "    date_time =metrics_history['date']\n",
    "    date_time = pd.to_datetime(date_time)\n",
    "    df = pd.DataFrame()\n",
    "    df['value'] = metrics_history[metrics_list[aa]]\n",
    "    df['value_error'] = metrics_history[metrics_list[aa]+'_error']\n",
    "    df = df.set_index(date_time)\n",
    "    df = df.sort_index(ascending=True)\n",
    "    ax[aa].errorbar(df.index,df['value'], yerr = df['value_error'])\n",
    "    ax[aa].set_ylabel(metrics_list[aa])\n",
    "    ax[aa].annotate(metrics_list[aa]+' Average Value Per Job', xy=(0.3, 0.9), xycoords=\"axes fraction\",color = 'black', fontsize =12, weight = 'bold',horizontalalignment='left',verticalalignment='center', bbox=dict(facecolor='white', alpha=0.8))\n",
    "\n",
    "plt.gcf().autofmt_xdate()\n",
    "plt.suptitle('Evolution of average value per day for ESM4.5 Jobs', fontsize = 32)\n",
    "plt.tight_layout()\n",
    "plt.show()"
   ]
  },
  {
   "cell_type": "code",
   "execution_count": null,
   "metadata": {},
   "outputs": [],
   "source": []
  }
 ],
 "metadata": {
  "kernelspec": {
   "display_name": "Python 3",
   "language": "python",
   "name": "python3"
  },
  "language_info": {
   "codemirror_mode": {
    "name": "ipython",
    "version": 3
   },
   "file_extension": ".py",
   "mimetype": "text/x-python",
   "name": "python",
   "nbconvert_exporter": "python",
   "pygments_lexer": "ipython3",
   "version": "3.7.4"
  }
 },
 "nbformat": 4,
 "nbformat_minor": 2
}
