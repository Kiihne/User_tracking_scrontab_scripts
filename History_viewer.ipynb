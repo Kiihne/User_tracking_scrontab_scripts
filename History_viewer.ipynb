{
 "cells": [
  {
   "cell_type": "markdown",
   "metadata": {},
   "source": [
    "# view comparision history\n",
    "pulls up and displays the history file for bronx and canopy comparision, in the form of a dataframe. Mostly exists as a double checking method"
   ]
  },
  {
   "cell_type": "code",
   "execution_count": 1,
   "metadata": {},
   "outputs": [
    {
     "name": "stdout",
     "output_type": "stream",
     "text": [
      "importing pandas\n"
     ]
    }
   ],
   "source": [
    " import numpy as np\n",
    "# import pandas. optional but helpful 'display.max_columns' arg shows all DataFrame columns when printing\n",
    "print('importing pandas')\n",
    "import pandas\n",
    "from pandas import DataFrame\n",
    "import pickle   #to load in metrics history\n",
    "pandas.set_option('display.max_columns', None)"
   ]
  },
  {
   "cell_type": "code",
   "execution_count": 2,
   "metadata": {},
   "outputs": [
    {
     "data": {
      "text/html": [
       "<div>\n",
       "<style scoped>\n",
       "    .dataframe tbody tr th:only-of-type {\n",
       "        vertical-align: middle;\n",
       "    }\n",
       "\n",
       "    .dataframe tbody tr th {\n",
       "        vertical-align: top;\n",
       "    }\n",
       "\n",
       "    .dataframe thead th {\n",
       "        text-align: right;\n",
       "    }\n",
       "</style>\n",
       "<table border=\"1\" class=\"dataframe\">\n",
       "  <thead>\n",
       "    <tr style=\"text-align: right;\">\n",
       "      <th></th>\n",
       "      <th>elapsed_time</th>\n",
       "      <th>read_bytes</th>\n",
       "      <th>cpu_time</th>\n",
       "      <th>num_procs</th>\n",
       "      <th>write_bytes</th>\n",
       "      <th>date/exp_name</th>\n",
       "    </tr>\n",
       "  </thead>\n",
       "  <tbody>\n",
       "    <tr>\n",
       "      <td>bronx</td>\n",
       "      <td>[1.4284968294444444]</td>\n",
       "      <td>[379306131456]</td>\n",
       "      <td>[4268274722.0]</td>\n",
       "      <td>[264054]</td>\n",
       "      <td>[337844035584]</td>\n",
       "      <td>[[2024-04-23 10:00:25.655524, c96L65_am5f7b11r...</td>\n",
       "    </tr>\n",
       "    <tr>\n",
       "      <td>canopy</td>\n",
       "      <td>[0.5018363944444445]</td>\n",
       "      <td>[208784789504]</td>\n",
       "      <td>[4510266874.0]</td>\n",
       "      <td>[115557]</td>\n",
       "      <td>[217445580800]</td>\n",
       "      <td>[[2024-04-23 10:00:25.655524, c96L65_am5f7b11r...</td>\n",
       "    </tr>\n",
       "  </tbody>\n",
       "</table>\n",
       "</div>"
      ],
      "text/plain": [
       "                elapsed_time      read_bytes        cpu_time num_procs  \\\n",
       "bronx   [1.4284968294444444]  [379306131456]  [4268274722.0]  [264054]   \n",
       "canopy  [0.5018363944444445]  [208784789504]  [4510266874.0]  [115557]   \n",
       "\n",
       "           write_bytes                                      date/exp_name  \n",
       "bronx   [337844035584]  [[2024-04-23 10:00:25.655524, c96L65_am5f7b11r...  \n",
       "canopy  [217445580800]  [[2024-04-23 10:00:25.655524, c96L65_am5f7b11r...  "
      ]
     },
     "execution_count": 2,
     "metadata": {},
     "output_type": "execute_result"
    }
   ],
   "source": [
    "filename = 'comparision_history_'+'DO_NOT_DELETE.pkl'\n",
    "# Read dictionary pkl file\n",
    "with open(filename, 'rb') as fp:\n",
    "    metrics_history = pickle.load(fp)\n",
    "metrics_df = DataFrame.from_dict(metrics_history,orient='index',)\n",
    "metrics_df"
   ]
  },
  {
   "cell_type": "code",
   "execution_count": null,
   "metadata": {},
   "outputs": [],
   "source": []
  }
 ],
 "metadata": {
  "kernelspec": {
   "display_name": "Python 3",
   "language": "python",
   "name": "python3"
  },
  "language_info": {
   "codemirror_mode": {
    "name": "ipython",
    "version": 3
   },
   "file_extension": ".py",
   "mimetype": "text/x-python",
   "name": "python",
   "nbconvert_exporter": "python",
   "pygments_lexer": "ipython3",
   "version": "3.7.4"
  }
 },
 "nbformat": 4,
 "nbformat_minor": 2
}
